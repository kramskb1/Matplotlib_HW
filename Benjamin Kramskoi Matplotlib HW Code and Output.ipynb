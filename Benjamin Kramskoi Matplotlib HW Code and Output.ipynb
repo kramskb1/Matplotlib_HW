{
 "cells": [
  {
   "cell_type": "code",
   "execution_count": null,
   "metadata": {},
   "outputs": [],
   "source": [
    "1 Observations and Insights"
   ]
  },
  {
   "cell_type": "code",
   "execution_count": null,
   "metadata": {},
   "outputs": [],
   "source": [
    "Type Markdown and LaTeX:  𝛼2"
   ]
  },
  {
   "cell_type": "code",
   "execution_count": 61,
   "metadata": {
    "ExecuteTime": {
     "end_time": "2020-10-11T20:36:18.975468Z",
     "start_time": "2020-10-11T20:36:18.881194Z"
    }
   },
   "outputs": [
    {
     "name": "stdout",
     "output_type": "stream",
     "text": [
      "  Mouse ID Drug Regimen   Sex  Age_months  Weight (g)  Timepoint  \\\n",
      "0     k403     Ramicane  Male          21          16          0   \n",
      "1     k403     Ramicane  Male          21          16          5   \n",
      "2     k403     Ramicane  Male          21          16         10   \n",
      "3     k403     Ramicane  Male          21          16         15   \n",
      "4     k403     Ramicane  Male          21          16         20   \n",
      "\n",
      "   Tumor Volume (mm3)  Metastatic Sites  \n",
      "0           45.000000                 0  \n",
      "1           38.825898                 0  \n",
      "2           35.014271                 1  \n",
      "3           34.223992                 1  \n",
      "4           32.997729                 1  \n",
      "1893\n",
      "249\n",
      "    Mouse ID Drug Regimen     Sex  Age_months  Weight (g)  Timepoint  \\\n",
      "909     g989     Propriva  Female          21          26          0   \n",
      "911     g989     Propriva  Female          21          26          5   \n",
      "913     g989     Propriva  Female          21          26         10   \n",
      "915     g989     Propriva  Female          21          26         15   \n",
      "917     g989     Propriva  Female          21          26         20   \n",
      "\n",
      "     Tumor Volume (mm3)  Metastatic Sites  \n",
      "909           45.000000                 0  \n",
      "911           47.570392                 0  \n",
      "913           49.880528                 0  \n",
      "915           53.442020                 0  \n",
      "917           54.657650                 1  \n",
      "Mouse ID              1888\n",
      "Drug Regimen          1888\n",
      "Sex                   1888\n",
      "Age_months            1888\n",
      "Weight (g)            1888\n",
      "Timepoint             1888\n",
      "Tumor Volume (mm3)    1888\n",
      "Metastatic Sites      1888\n",
      "dtype: int64\n",
      "249\n",
      "                   mean     median        var       std       sem\n",
      "Drug Regimen                                                     \n",
      "Capomulin     40.675741  41.557809  24.947764  4.994774  0.329346\n",
      "Ceftamin      52.591172  51.776157  39.290177  6.268188  0.469821\n",
      "Infubinol     52.884795  51.820584  43.128684  6.567243  0.492236\n",
      "Ketapril      55.235638  53.698743  68.553577  8.279709  0.603860\n",
      "Naftisol      54.331565  52.509285  66.173479  8.134708  0.596466\n",
      "Placebo       54.033581  52.288934  61.168083  7.821003  0.581331\n",
      "Propriva      52.393463  50.909965  43.138803  6.568014  0.525862\n",
      "Ramicane      40.216745  40.673236  23.486704  4.846308  0.320955\n",
      "Stelasyn      54.233149  52.431737  59.450562  7.710419  0.573111\n",
      "Zoniferol     53.236507  51.818479  48.533355  6.966589  0.516398\n"
     ]
    }
   ],
   "source": [
    "\n",
    "\n",
    "# Dependencies and Setup\n",
    "import matplotlib.pyplot as plt\n",
    "import pandas as pd\n",
    "import scipy.stats as st\n",
    "# Study data files\n",
    "mouse_metadata_path = \"Mouse_metadata.csv\"\n",
    "study_results_path = \"Study_results.csv\"\n",
    "# Read the mouse data and the study results\n",
    "mouse_metadata_df = pd.read_csv(mouse_metadata_path)\n",
    "study_results_df = pd.read_csv(study_results_path)\n",
    "# Combine the data into a single dataset\n",
    "merged_df = pd.merge (mouse_metadata_df, study_results_df, how = \"left\", on=[\"Mouse ID\"])\n",
    "# Display the data table for preview\n",
    "print(merged_df.head())\n",
    "# Check the number of mice.\n",
    "print (len(merged_df)) \n",
    "total_mice = merged_df.groupby('Mouse ID').count()\n",
    "print(len(total_mice))\n",
    "# Find any duplicate rows with the same Mouse ID's and Timepoints. \n",
    "duplicateRowsDF = merged_df[merged_df.duplicated(['Mouse ID', 'Timepoint'])]\n",
    "#mouse_metadata_df.loc[mouse_metadata_df.duplicated(subset=['Mouse ID', 'Timepoint',]), 'Mouse ID'].unique()\n",
    "print (duplicateRowsDF)                       \n",
    "# Drop any duplicate rows\n",
    "merged_df_no_dups=merged_df.drop_duplicates(subset=['Mouse ID', 'Timepoint'], keep='first')\n",
    "# Recheck the number of mice\n",
    "print (merged_df_no_dups.count()) \n",
    "total_mice = merged_df_no_dups.groupby('Mouse ID').count()\n",
    "print(len(total_mice))       \n",
    "#0.2  Summary Statistics\n",
    "# Generate a summary statistics table of mean, median, variance, \n",
    "# standard deviation, and SEM of the tumor volume for each regimen.\n",
    "dfs = merged_df_no_dups.groupby('Drug Regimen').agg(['mean', 'median', 'var', 'std', 'sem']) [\"Tumor Volume (mm3)\"]\n",
    "print(dfs)\n",
    "#'Tumor Volume(mm3)' : 'median',\n",
    "#'Tumor Volume(mm3)' : 'var',\n",
    "#'Tumor Volume(mm3)' : 'std',\n",
    "#'Tumor Volume(mm3)' : 'sem'\n",
    "# }\n",
    "#)\n",
    "#print(dfs)\n",
    "#summary_df =pd.Dataframe({\"Mean\" : mean, \"Median\" : median, \"Variance\" : var, \"Standard Deviation\" : std, \"SEM\" : sem})\n",
    "#print(summary_df)\n",
    "#mean = merged_df.groupby('Drug Regimen') ['Tumor Volume(mm3)']\n",
    "#print(dfs)\n",
    "#0.3  Bar and Pie Charts\n",
    "# Generate a bar plot showing the total number of datapoints for each drug regimen using pandas.\n",
    "# There should be a single bar per regimen\n",
    "# Generate identical bar plot using pyplot instead of pandas.\n",
    "# Generate a pie plot showing the distribution of female versus male mice using pandas\n",
    "# Generate identical pie plot using pyplot\n",
    "#0.4  Quartiles, Outliers and Boxplots\n",
    "# Calculate the final tumor volume of each mouse across four of the treatment regimens:  \n",
    "# Capomulin, Ramicane, Infubinol, and Ceftamin\n",
    "# HINT: Not all mice lived until timepoint 45\n",
    "# Start by getting the last (greatest) timepoint for each mouse\n",
    "# Merge this group df with the original dataframe to get the tumor volume at the last timepoint\n",
    "#Calculate the quartiles and IQR and quantitatively determine if there are any potential outliers across all four treatment regimens.\n",
    "\n",
    "# Calculate quartiles, IQR, and identify potential outliers for each regimen.\n",
    "# One method to do this is the following, but you can use whatever method works for you.\n",
    "##############################################################################\n",
    "# Put treatments into a list for for loop (and later for plot labels)\n",
    "# Create empty list to fill with tumor vol data (for plotting)\n",
    "# Calculate the IQR and quantitatively determine if there are any potential outliers. \n",
    "    \n",
    "    # Locate the rows which contain mice on each drug and get the tumor volumes\n",
    "    \n",
    "    \n",
    "    # add subset \n",
    "    \n",
    "    \n",
    "    # Determine outliers using upper and lower bounds\n",
    "    \n",
    "# Generate a box plot of the final tumor volume of each mouse across four regimens of interest\n",
    "# There should be a single chart with four box plots inside it.\n",
    "#0.5  Line and Scatter Plots\n",
    "# Generate a line plot of tumor volume vs. time point for a single mouse \n",
    "# treated with Capomulin\n",
    "# Generate a scatter plot of average tumor volume vs. mouse weight \n",
    "# for all mice in the Capomulin regimen\n",
    "#0.6  Correlation and Regression\n",
    "# Calculate the correlation coefficient and linear regression model \n",
    "# for mouse weight and average tumor volume for the Capomulin regimen"
   ]
  },
  {
   "cell_type": "markdown",
   "metadata": {},
   "source": []
  },
  {
   "cell_type": "code",
   "execution_count": null,
   "metadata": {},
   "outputs": [],
   "source": []
  }
 ],
 "metadata": {
  "kernelspec": {
   "display_name": "Python 3",
   "language": "python",
   "name": "python3"
  },
  "language_info": {
   "codemirror_mode": {
    "name": "ipython",
    "version": 3
   },
   "file_extension": ".py",
   "mimetype": "text/x-python",
   "name": "python",
   "nbconvert_exporter": "python",
   "pygments_lexer": "ipython3",
   "version": "3.8.3"
  },
  "toc": {
   "base_numbering": 1,
   "nav_menu": {},
   "number_sections": true,
   "sideBar": true,
   "skip_h1_title": false,
   "title_cell": "Table of Contents",
   "title_sidebar": "Contents",
   "toc_cell": false,
   "toc_position": {},
   "toc_section_display": true,
   "toc_window_display": false
  },
  "varInspector": {
   "cols": {
    "lenName": 16,
    "lenType": 16,
    "lenVar": 40
   },
   "kernels_config": {
    "python": {
     "delete_cmd_postfix": "",
     "delete_cmd_prefix": "del ",
     "library": "var_list.py",
     "varRefreshCmd": "print(var_dic_list())"
    },
    "r": {
     "delete_cmd_postfix": ") ",
     "delete_cmd_prefix": "rm(",
     "library": "var_list.r",
     "varRefreshCmd": "cat(var_dic_list()) "
    }
   },
   "types_to_exclude": [
    "module",
    "function",
    "builtin_function_or_method",
    "instance",
    "_Feature"
   ],
   "window_display": false
  }
 },
 "nbformat": 4,
 "nbformat_minor": 4
}
